{
 "cells": [
  {
   "cell_type": "code",
   "execution_count": 1,
   "metadata": {},
   "outputs": [],
   "source": [
    "import jieba"
   ]
  },
  {
   "cell_type": "code",
   "execution_count": 4,
   "metadata": {},
   "outputs": [
    {
     "name": "stdout",
     "output_type": "stream",
     "text": [
      "Default Mode: Dans/  / cette/  / global/  / village/ ,/  / on/  / n/ '/ a/  / pas/  / besoin/  / plus/  / de/  / cultural/  / exchange/ 来/ 增进/ mutual/  / understanding/ 。\n"
     ]
    }
   ],
   "source": [
    "text = \"Dans cette global village, on n'a pas besoin plus de cultural exchange来增进mutual understanding。\"\n",
    "\n",
    "seg_list = jieba.cut(text, cut_all=False)\n",
    "print(\"Default Mode: \" + \"/ \".join(seg_list))  # 精确模式"
   ]
  }
 ],
 "metadata": {
  "kernelspec": {
   "display_name": "extra_info",
   "language": "python",
   "name": "python3"
  },
  "language_info": {
   "codemirror_mode": {
    "name": "ipython",
    "version": 3
   },
   "file_extension": ".py",
   "mimetype": "text/x-python",
   "name": "python",
   "nbconvert_exporter": "python",
   "pygments_lexer": "ipython3",
   "version": "3.12.2"
  }
 },
 "nbformat": 4,
 "nbformat_minor": 2
}
