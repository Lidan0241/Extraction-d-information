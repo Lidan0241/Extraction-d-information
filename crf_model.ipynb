{
 "cells": [
  {
   "cell_type": "code",
   "execution_count": 146,
   "metadata": {},
   "outputs": [],
   "source": [
    "import pandas as pd\n",
    "import numpy as np\n",
    "import seaborn as sns\n",
    "import matplotlib.pyplot as plt\n",
    "import sklearn_crfsuite\n",
    "from sklearn_crfsuite import metrics\n",
    "from sklearn_crfsuite import scorers\n",
    "from sklearn.metrics import confusion_matrix\n",
    "import numpy as np\n",
    "from sklearn.pipeline import Pipeline\n",
    "from sklearn.feature_extraction.text import TfidfVectorizer\n",
    "from sklearn.metrics import classification_report, accuracy_score"
   ]
  },
  {
   "cell_type": "code",
   "execution_count": 132,
   "metadata": {},
   "outputs": [
    {
     "data": {
      "text/html": [
       "<div>\n",
       "<style scoped>\n",
       "    .dataframe tbody tr th:only-of-type {\n",
       "        vertical-align: middle;\n",
       "    }\n",
       "\n",
       "    .dataframe tbody tr th {\n",
       "        vertical-align: top;\n",
       "    }\n",
       "\n",
       "    .dataframe thead th {\n",
       "        text-align: right;\n",
       "    }\n",
       "</style>\n",
       "<table border=\"1\" class=\"dataframe\">\n",
       "  <thead>\n",
       "    <tr style=\"text-align: right;\">\n",
       "      <th></th>\n",
       "      <th>token</th>\n",
       "      <th>label</th>\n",
       "    </tr>\n",
       "  </thead>\n",
       "  <tbody>\n",
       "    <tr>\n",
       "      <th>0</th>\n",
       "      <td>11:11</td>\n",
       "      <td>other</td>\n",
       "    </tr>\n",
       "    <tr>\n",
       "      <th>1</th>\n",
       "      <td>.....</td>\n",
       "      <td>other</td>\n",
       "    </tr>\n",
       "    <tr>\n",
       "      <th>2</th>\n",
       "      <td>make</td>\n",
       "      <td>lang1</td>\n",
       "    </tr>\n",
       "    <tr>\n",
       "      <th>3</th>\n",
       "      <td>a</td>\n",
       "      <td>lang1</td>\n",
       "    </tr>\n",
       "    <tr>\n",
       "      <th>4</th>\n",
       "      <td>wish</td>\n",
       "      <td>lang1</td>\n",
       "    </tr>\n",
       "    <tr>\n",
       "      <th>...</th>\n",
       "      <td>...</td>\n",
       "      <td>...</td>\n",
       "    </tr>\n",
       "    <tr>\n",
       "      <th>1714</th>\n",
       "      <td>Picheale</td>\n",
       "      <td>lang2</td>\n",
       "    </tr>\n",
       "    <tr>\n",
       "      <th>1715</th>\n",
       "      <td>al</td>\n",
       "      <td>lang2</td>\n",
       "    </tr>\n",
       "    <tr>\n",
       "      <th>1716</th>\n",
       "      <td>,</td>\n",
       "      <td>other</td>\n",
       "    </tr>\n",
       "    <tr>\n",
       "      <th>1717</th>\n",
       "      <td>comete</td>\n",
       "      <td>lang2</td>\n",
       "    </tr>\n",
       "    <tr>\n",
       "      <th>1718</th>\n",
       "      <td>un</td>\n",
       "      <td>lang2</td>\n",
       "    </tr>\n",
       "  </tbody>\n",
       "</table>\n",
       "<p>1719 rows × 2 columns</p>\n",
       "</div>"
      ],
      "text/plain": [
       "         token  label\n",
       "0        11:11  other\n",
       "1        .....  other\n",
       "2         make  lang1\n",
       "3            a  lang1\n",
       "4         wish  lang1\n",
       "...        ...    ...\n",
       "1714  Picheale  lang2\n",
       "1715        al  lang2\n",
       "1716         ,  other\n",
       "1717    comete  lang2\n",
       "1718        un  lang2\n",
       "\n",
       "[1719 rows x 2 columns]"
      ]
     },
     "execution_count": 132,
     "metadata": {},
     "output_type": "execute_result"
    }
   ],
   "source": [
    "def read_corpus_to_dataframe(filepath):\n",
    "    data = []\n",
    "    with open(filepath, 'r', encoding='utf-8') as file:\n",
    "        for line in file:\n",
    "            parts = line.strip().split()\n",
    "            if len(parts) == 2:\n",
    "                token, label = parts\n",
    "                if parts[1] == 'unk':\n",
    "                    continue\n",
    "                elif parts[1] == 'ne':\n",
    "                    continue\n",
    "                if parts[1] == 'fw':\n",
    "                    continue\n",
    "                if parts[1] == 'ambiguous':\n",
    "                    continue\n",
    "                else:\n",
    "                    data.append({'token': token, 'label': label})\n",
    "                \n",
    "    return pd.DataFrame(data)\n",
    "\n",
    "df_train = read_corpus_to_dataframe('./data/es-en/train.conll')\n",
    "df_dev = read_corpus_to_dataframe('./data/es-en/dev.conll')\n",
    "\n",
    "df_train[:1719]"
   ]
  },
  {
   "cell_type": "code",
   "execution_count": 133,
   "metadata": {},
   "outputs": [
    {
     "data": {
      "text/plain": [
       "label\n",
       "lang2    112988\n",
       "lang1     80437\n",
       "other     54060\n",
       "mixed        42\n",
       "Name: count, dtype: int64"
      ]
     },
     "execution_count": 133,
     "metadata": {},
     "output_type": "execute_result"
    }
   ],
   "source": [
    "df_train['label'].value_counts()"
   ]
  },
  {
   "cell_type": "code",
   "execution_count": 134,
   "metadata": {},
   "outputs": [],
   "source": [
    "def extract_features(df):\n",
    "    def n_grams(word, n):\n",
    "        \"\"\"Generate n-grams for a given word.\"\"\"\n",
    "        return [word[i:i+n] for i in range(len(word)-(n-1))]\n",
    "    \n",
    "    features_list = []\n",
    "    for index, row in df.iterrows():\n",
    "        token = row['token']\n",
    "        features = {\n",
    "            'word': token,\n",
    "            'prev_word': df.iloc[index - 1]['token'] if index > 0 else '',\n",
    "            'next_word': df.iloc[index + 1]['token'] if index < len(df) - 1 else '',\n",
    "            'bigram': n_grams(token, 2),\n",
    "            'trigram': n_grams(token, 3)\n",
    "        }\n",
    "        features_list.append(features)\n",
    "    return features_list"
   ]
  },
  {
   "cell_type": "code",
   "execution_count": 164,
   "metadata": {},
   "outputs": [
    {
     "data": {
      "text/plain": [
       "label\n",
       "lang2    112988\n",
       "lang1     80437\n",
       "other     54060\n",
       "mixed        42\n",
       "Name: count, dtype: int64"
      ]
     },
     "execution_count": 164,
     "metadata": {},
     "output_type": "execute_result"
    }
   ],
   "source": [
    "X_train = extract_features(df_train)\n",
    "y_train = df_train['label']\n",
    "X_test = extract_features(df_dev)\n",
    "y_test = df_dev['label']"
   ]
  },
  {
   "cell_type": "code",
   "execution_count": 145,
   "metadata": {},
   "outputs": [
    {
     "data": {
      "text/plain": [
       "[{'word': '11:11',\n",
       "  'prev_word': '',\n",
       "  'next_word': '.....',\n",
       "  'bigram': ['11', '1:', ':1', '11'],\n",
       "  'trigram': ['11:', '1:1', ':11']},\n",
       " {'word': '.....',\n",
       "  'prev_word': '11:11',\n",
       "  'next_word': 'make',\n",
       "  'bigram': ['..', '..', '..', '..'],\n",
       "  'trigram': ['...', '...', '...']},\n",
       " {'word': 'make',\n",
       "  'prev_word': '.....',\n",
       "  'next_word': 'a',\n",
       "  'bigram': ['ma', 'ak', 'ke'],\n",
       "  'trigram': ['mak', 'ake']}]"
      ]
     },
     "execution_count": 145,
     "metadata": {},
     "output_type": "execute_result"
    }
   ],
   "source": [
    "X_train[:3]"
   ]
  },
  {
   "cell_type": "code",
   "execution_count": 136,
   "metadata": {},
   "outputs": [],
   "source": [
    "crf = sklearn_crfsuite.CRF(\n",
    "    algorithm='lbfgs',\n",
    "    c1=0.1,\n",
    "    c2=0.1,\n",
    "    max_iterations=100,\n",
    "    all_possible_transitions=True\n",
    ")\n",
    "# AttributeError: 'CRF' object has no attribute 'keep_tempfiles'\n",
    "# ou alors il faut installer une version en-dessous de 0.24 de scikit-learn\n",
    "try:\n",
    "    crf.fit(X_train, y_train)\n",
    "except AttributeError:\n",
    "    pass\n",
    "\n"
   ]
  },
  {
   "cell_type": "code",
   "execution_count": 158,
   "metadata": {},
   "outputs": [
    {
     "name": "stdout",
     "output_type": "stream",
     "text": [
      "0.7170240234918867\n"
     ]
    }
   ],
   "source": [
    "predictions = crf.predict(X_test)\n",
    "print(metrics.flat_accuracy_score(y_test, predictions))"
   ]
  }
 ],
 "metadata": {
  "kernelspec": {
   "display_name": "extra-info",
   "language": "python",
   "name": "python3"
  },
  "language_info": {
   "codemirror_mode": {
    "name": "ipython",
    "version": 3
   },
   "file_extension": ".py",
   "mimetype": "text/x-python",
   "name": "python",
   "nbconvert_exporter": "python",
   "pygments_lexer": "ipython3",
   "version": "3.9.18"
  },
  "orig_nbformat": 4
 },
 "nbformat": 4,
 "nbformat_minor": 2
}
