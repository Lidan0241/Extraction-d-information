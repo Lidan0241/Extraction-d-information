{
 "cells": [
  {
   "cell_type": "code",
   "execution_count": 11,
   "metadata": {},
   "outputs": [],
   "source": [
    "import time\n",
    "from tqdm import tqdm\n",
    "import pandas as pd\n",
    "import numpy as np\n",
    "import seaborn as sns\n",
    "import matplotlib.pyplot as plt\n",
    "import sklearn_crfsuite\n",
    "from sklearn_crfsuite import metrics\n",
    "from sklearn_crfsuite import scorers\n"
   ]
  },
  {
   "cell_type": "code",
   "execution_count": 12,
   "metadata": {},
   "outputs": [],
   "source": [
    "def read_corpus_to_dataframe(filepath):\n",
    "    data = []\n",
    "    with open(filepath, 'r', encoding='utf-8') as file:\n",
    "        for line in file:\n",
    "            parts = line.strip().split()\n",
    "            if len(parts) == 2:\n",
    "                token, label = parts\n",
    "                data.append({'token': token, 'label': label})\n",
    "                \n",
    "    return pd.DataFrame(data)\n",
    "    "
   ]
  },
  {
   "cell_type": "markdown",
   "metadata": {},
   "source": [
    "CRFs rely heavily on feature extraction. For language detection in code-mixed text, consider these features:\n",
    "\n",
    "### Word-level features: \n",
    "Word identity, word suffix, word length, etc.\n",
    "### Contextual features: \n",
    "Previous and next word, previous and next label.\n",
    "### Orthographic features: \n",
    "Capitalization, presence of digits, punctuation, etc.\n",
    "### Lexical features: \n",
    "Whether the word is in a pre-compiled list of common words for a specific language."
   ]
  },
  {
   "cell_type": "code",
   "execution_count": 13,
   "metadata": {},
   "outputs": [],
   "source": [
    "def extract_features(df):\n",
    "    # Create a list to hold feature dictionaries for each token\n",
    "    features_list = []\n",
    "    # Iterate through each row in the dataframe\n",
    "    for index, row in df.iterrows():\n",
    "        token = row['token']\n",
    "        # Extract features for the current token\n",
    "        features = {\n",
    "            'word': token,\n",
    "            'is_first': index == 0,\n",
    "            'is_last': index == len(df) - 1,\n",
    "            'is_capitalized': token[0].upper() == token[0] if token else False,\n",
    "            'is_all_caps': token.upper() == token if token else False,\n",
    "            'is_all_lower': token.lower() == token if token else False,\n",
    "            'prefix-1': token[0] if len(token) > 0 else '',\n",
    "            'prefix-2': token[:2] if len(token) > 1 else token[0] if len(token) > 0 else '',\n",
    "            'suffix-1': token[-1] if len(token) > 0 else '',\n",
    "            'suffix-2': token[-2:] if len(token) > 1 else token[-1] if len(token) > 0 else '',\n",
    "            'prev_word': df.iloc[index - 1]['token'] if index > 0 else '',\n",
    "            'next_word': df.iloc[index + 1]['token'] if index < len(df) - 1 else '',\n",
    "            'has_hyphen': '-' in token,\n",
    "            'is_numeric': token.isdigit(),\n",
    "        }\n",
    "        # Append the dictionary to the list\n",
    "        features_list.append(features)\n",
    "    return features_list\n"
   ]
  },
  {
   "cell_type": "code",
   "execution_count": 14,
   "metadata": {},
   "outputs": [],
   "source": [
    "def prepare_data(df):\n",
    "    # Extract features for the entire DataFrame\n",
    "    X_train = extract_features(df)\n",
    "    y_train = df['label'].tolist()\n",
    "    return X_train, y_train\n",
    "\n",
    "# Assuming 'read_corpus_to_dataframe' and 'extract_features' are already defined\n",
    "filepath = \"./data/es-en/train.conll\"\n",
    "df = read_corpus_to_dataframe(filepath)\n",
    "X_train, y_train = prepare_data(df)\n"
   ]
  },
  {
   "cell_type": "code",
   "execution_count": 15,
   "metadata": {},
   "outputs": [
    {
     "ename": "ValueError",
     "evalue": "The numbers of items and labels differ: |x| = 14, |y| = 5",
     "output_type": "error",
     "traceback": [
      "\u001b[0;31m---------------------------------------------------------------------------\u001b[0m",
      "\u001b[0;31mValueError\u001b[0m                                Traceback (most recent call last)",
      "\u001b[1;32m/Users/lydia/Desktop/language-detection/crf_model.ipynb Cell 6\u001b[0m line \u001b[0;36m9\n\u001b[1;32m      <a href='vscode-notebook-cell:/Users/lydia/Desktop/language-detection/crf_model.ipynb#X13sZmlsZQ%3D%3D?line=0'>1</a>\u001b[0m \u001b[39m# CRF Model\u001b[39;00m\n\u001b[1;32m      <a href='vscode-notebook-cell:/Users/lydia/Desktop/language-detection/crf_model.ipynb#X13sZmlsZQ%3D%3D?line=1'>2</a>\u001b[0m crf \u001b[39m=\u001b[39m sklearn_crfsuite\u001b[39m.\u001b[39mCRF(\n\u001b[1;32m      <a href='vscode-notebook-cell:/Users/lydia/Desktop/language-detection/crf_model.ipynb#X13sZmlsZQ%3D%3D?line=2'>3</a>\u001b[0m     algorithm\u001b[39m=\u001b[39m\u001b[39m'\u001b[39m\u001b[39mlbfgs\u001b[39m\u001b[39m'\u001b[39m,\n\u001b[1;32m      <a href='vscode-notebook-cell:/Users/lydia/Desktop/language-detection/crf_model.ipynb#X13sZmlsZQ%3D%3D?line=3'>4</a>\u001b[0m     c1\u001b[39m=\u001b[39m\u001b[39m0.1\u001b[39m,\n\u001b[0;32m   (...)\u001b[0m\n\u001b[1;32m      <a href='vscode-notebook-cell:/Users/lydia/Desktop/language-detection/crf_model.ipynb#X13sZmlsZQ%3D%3D?line=6'>7</a>\u001b[0m     all_possible_transitions\u001b[39m=\u001b[39m\u001b[39mTrue\u001b[39;00m\n\u001b[1;32m      <a href='vscode-notebook-cell:/Users/lydia/Desktop/language-detection/crf_model.ipynb#X13sZmlsZQ%3D%3D?line=7'>8</a>\u001b[0m )\n\u001b[0;32m----> <a href='vscode-notebook-cell:/Users/lydia/Desktop/language-detection/crf_model.ipynb#X13sZmlsZQ%3D%3D?line=8'>9</a>\u001b[0m crf\u001b[39m.\u001b[39;49mfit(X_train, y_train)\n",
      "File \u001b[0;32m~/miniconda3/envs/extra-info/lib/python3.9/site-packages/sklearn_crfsuite/estimator.py:314\u001b[0m, in \u001b[0;36mCRF.fit\u001b[0;34m(self, X, y, X_dev, y_dev)\u001b[0m\n\u001b[1;32m    311\u001b[0m     train_data \u001b[39m=\u001b[39m tqdm(train_data, \u001b[39m\"\u001b[39m\u001b[39mloading training data to CRFsuite\u001b[39m\u001b[39m\"\u001b[39m, \u001b[39mlen\u001b[39m(X), leave\u001b[39m=\u001b[39m\u001b[39mTrue\u001b[39;00m)\n\u001b[1;32m    313\u001b[0m \u001b[39mfor\u001b[39;00m xseq, yseq \u001b[39min\u001b[39;00m train_data:\n\u001b[0;32m--> 314\u001b[0m     trainer\u001b[39m.\u001b[39;49mappend(xseq, yseq)\n\u001b[1;32m    316\u001b[0m \u001b[39mif\u001b[39;00m \u001b[39mself\u001b[39m\u001b[39m.\u001b[39mverbose:\n\u001b[1;32m    317\u001b[0m     \u001b[39mprint\u001b[39m(\u001b[39m\"\u001b[39m\u001b[39m\"\u001b[39m)\n",
      "File \u001b[0;32mpycrfsuite/_pycrfsuite.pyx:312\u001b[0m, in \u001b[0;36mpycrfsuite._pycrfsuite.BaseTrainer.append\u001b[0;34m()\u001b[0m\n",
      "\u001b[0;31mValueError\u001b[0m: The numbers of items and labels differ: |x| = 14, |y| = 5"
     ]
    }
   ],
   "source": [
    "# CRF Model\n",
    "crf = sklearn_crfsuite.CRF(\n",
    "    algorithm='lbfgs',\n",
    "    c1=0.1,\n",
    "    c2=0.1,\n",
    "    max_iterations=100,\n",
    "    all_possible_transitions=True\n",
    ")\n",
    "crf.fit(X_train, y_train)"
   ]
  }
 ],
 "metadata": {
  "kernelspec": {
   "display_name": "extra-info",
   "language": "python",
   "name": "python3"
  },
  "language_info": {
   "codemirror_mode": {
    "name": "ipython",
    "version": 3
   },
   "file_extension": ".py",
   "mimetype": "text/x-python",
   "name": "python",
   "nbconvert_exporter": "python",
   "pygments_lexer": "ipython3",
   "version": "3.9.18"
  },
  "orig_nbformat": 4
 },
 "nbformat": 4,
 "nbformat_minor": 2
}
