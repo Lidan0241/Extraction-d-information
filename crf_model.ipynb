{
 "cells": [
  {
   "cell_type": "code",
   "execution_count": 53,
   "metadata": {},
   "outputs": [],
   "source": [
    "import time\n",
    "from tqdm import tqdm\n",
    "import pandas as pd\n",
    "import numpy as np\n",
    "import seaborn as sns\n",
    "import matplotlib.pyplot as plt\n",
    "from sklearn.base import TransformerMixin\n",
    "from sklearn_crfsuite import CRF\n",
    "from sklearn.pipeline import Pipeline\n",
    "from sklearn_crfsuite.metrics import flat_classification_report\n",
    "from sklearn.metrics import confusion_matrix\n",
    "from sklearn.feature_extraction.text import TfidfVectorizer\n",
    "from sklearn.metrics import classification_report, accuracy_score\n",
    "import sklearn_crfsuite\n",
    "from sklearn_crfsuite import metrics"
   ]
  },
  {
   "cell_type": "markdown",
   "metadata": {},
   "source": []
  },
  {
   "cell_type": "code",
   "execution_count": 54,
   "metadata": {},
   "outputs": [],
   "source": [
    "class TokenFeatures(TransformerMixin):\n",
    "    def transform(self, X, **transform_params):\n",
    "        return [self.sent2features(s) for s in X]\n",
    "\n",
    "    def fit(self, X, y=None, **fit_params):\n",
    "        return self\n",
    "\n",
    "    def sent2features(self, sent):\n",
    "        return [{ 'word.lower()': word.lower() } for word in sent.split()]\n",
    "\n",
    "    def get_feature_names(self):\n",
    "        return ['word.lower()']"
   ]
  },
  {
   "cell_type": "code",
   "execution_count": 55,
   "metadata": {},
   "outputs": [],
   "source": [
    "pipeline = Pipeline([\n",
    "    #('token_features', TokenFeatures()),  # Transform text to token-level features\n",
    "    ('crf', CRF(algorithm='lbfgs', c1=0.1, c2=0.1, max_iterations=100, all_possible_transitions=True))\n",
    "])"
   ]
  },
  {
   "cell_type": "code",
   "execution_count": 56,
   "metadata": {},
   "outputs": [],
   "source": [
    "def read_corpus_to_dataframe(filepath):\n",
    "    data = []\n",
    "    with open(filepath, 'r', encoding='utf-8') as file:\n",
    "        for line in file:\n",
    "            parts = line.strip().split()\n",
    "            if len(parts) == 2:\n",
    "                token, label = parts\n",
    "                data.append({'token': token, 'label': label})\n",
    "                \n",
    "    return pd.DataFrame(data)"
   ]
  },
  {
   "cell_type": "code",
   "execution_count": 57,
   "metadata": {},
   "outputs": [
    {
     "name": "stdout",
     "output_type": "stream",
     "text": [
      "Number of rows token in the training DataFrame: 253221\n",
      "Number of rows label in the training DataFrame: 253221\n"
     ]
    }
   ],
   "source": [
    "df_train = read_corpus_to_dataframe('./data/es-en/train.conll')\n",
    "df_dev = read_corpus_to_dataframe('./data/es-en/dev.conll')\n",
    "#df_train.head()\n",
    "#df_train.tail()\n",
    "num_rows = df_train['token'].shape[0]\n",
    "print(\"Number of rows token in the training DataFrame:\", num_rows)\n",
    "num_rows2 = df_train['label'].shape[0]\n",
    "print(\"Number of rows label in the training DataFrame:\", num_rows2)\n"
   ]
  },
  {
   "cell_type": "code",
   "execution_count": 58,
   "metadata": {},
   "outputs": [],
   "source": [
    "X_train, y_train = df_train['token'], df_train['label']\n",
    "X_dev, y_dev = df_dev['token'], df_dev['label']"
   ]
  },
  {
   "cell_type": "code",
   "execution_count": 59,
   "metadata": {},
   "outputs": [
    {
     "ename": "ValueError",
     "evalue": "The numbers of items and labels differ: |x| = 4, |y| = 5",
     "output_type": "error",
     "traceback": [
      "\u001b[0;31m---------------------------------------------------------------------------\u001b[0m",
      "\u001b[0;31mValueError\u001b[0m                                Traceback (most recent call last)",
      "\u001b[1;32m/Users/lydia/Desktop/language-detection/crf_model.ipynb Cell 8\u001b[0m line \u001b[0;36m2\n\u001b[1;32m      <a href='vscode-notebook-cell:/Users/lydia/Desktop/language-detection/crf_model.ipynb#X10sZmlsZQ%3D%3D?line=0'>1</a>\u001b[0m crf \u001b[39m=\u001b[39m CRF(algorithm\u001b[39m=\u001b[39m\u001b[39m'\u001b[39m\u001b[39mlbfgs\u001b[39m\u001b[39m'\u001b[39m, c1\u001b[39m=\u001b[39m\u001b[39m0.1\u001b[39m, c2\u001b[39m=\u001b[39m\u001b[39m0.1\u001b[39m, max_iterations\u001b[39m=\u001b[39m\u001b[39m100\u001b[39m, all_possible_transitions\u001b[39m=\u001b[39m\u001b[39mTrue\u001b[39;00m)\n\u001b[0;32m----> <a href='vscode-notebook-cell:/Users/lydia/Desktop/language-detection/crf_model.ipynb#X10sZmlsZQ%3D%3D?line=1'>2</a>\u001b[0m crf\u001b[39m.\u001b[39;49mfit(X_train, y_train)\n",
      "File \u001b[0;32m~/miniconda3/envs/extra-info/lib/python3.9/site-packages/sklearn_crfsuite/estimator.py:314\u001b[0m, in \u001b[0;36mCRF.fit\u001b[0;34m(self, X, y, X_dev, y_dev)\u001b[0m\n\u001b[1;32m    311\u001b[0m     train_data \u001b[39m=\u001b[39m tqdm(train_data, \u001b[39m\"\u001b[39m\u001b[39mloading training data to CRFsuite\u001b[39m\u001b[39m\"\u001b[39m, \u001b[39mlen\u001b[39m(X), leave\u001b[39m=\u001b[39m\u001b[39mTrue\u001b[39;00m)\n\u001b[1;32m    313\u001b[0m \u001b[39mfor\u001b[39;00m xseq, yseq \u001b[39min\u001b[39;00m train_data:\n\u001b[0;32m--> 314\u001b[0m     trainer\u001b[39m.\u001b[39;49mappend(xseq, yseq)\n\u001b[1;32m    316\u001b[0m \u001b[39mif\u001b[39;00m \u001b[39mself\u001b[39m\u001b[39m.\u001b[39mverbose:\n\u001b[1;32m    317\u001b[0m     \u001b[39mprint\u001b[39m(\u001b[39m\"\u001b[39m\u001b[39m\"\u001b[39m)\n",
      "File \u001b[0;32mpycrfsuite/_pycrfsuite.pyx:312\u001b[0m, in \u001b[0;36mpycrfsuite._pycrfsuite.BaseTrainer.append\u001b[0;34m()\u001b[0m\n",
      "\u001b[0;31mValueError\u001b[0m: The numbers of items and labels differ: |x| = 4, |y| = 5"
     ]
    }
   ],
   "source": [
    "crf = CRF(algorithm='lbfgs', c1=0.1, c2=0.1, max_iterations=100, all_possible_transitions=True)\n",
    "crf.fit(X_train, y_train)"
   ]
  },
  {
   "cell_type": "code",
   "execution_count": null,
   "metadata": {},
   "outputs": [
    {
     "ename": "NameError",
     "evalue": "name 'LogisticRegression' is not defined",
     "output_type": "error",
     "traceback": [
      "\u001b[0;31m---------------------------------------------------------------------------\u001b[0m",
      "\u001b[0;31mNameError\u001b[0m                                 Traceback (most recent call last)",
      "\u001b[1;32m/Users/lydia/Desktop/language-detection/crf_model.ipynb Cell 8\u001b[0m line \u001b[0;36m6\n\u001b[1;32m      <a href='vscode-notebook-cell:/Users/lydia/Desktop/language-detection/crf_model.ipynb#W3sZmlsZQ%3D%3D?line=0'>1</a>\u001b[0m X_train, y_train \u001b[39m=\u001b[39m df_train[\u001b[39m'\u001b[39m\u001b[39mtoken\u001b[39m\u001b[39m'\u001b[39m], df_train[\u001b[39m'\u001b[39m\u001b[39mlabel\u001b[39m\u001b[39m'\u001b[39m]\n\u001b[1;32m      <a href='vscode-notebook-cell:/Users/lydia/Desktop/language-detection/crf_model.ipynb#W3sZmlsZQ%3D%3D?line=1'>2</a>\u001b[0m X_dev, y_dev \u001b[39m=\u001b[39m df_dev[\u001b[39m'\u001b[39m\u001b[39mtoken\u001b[39m\u001b[39m'\u001b[39m], df_dev[\u001b[39m'\u001b[39m\u001b[39mlabel\u001b[39m\u001b[39m'\u001b[39m]\n\u001b[1;32m      <a href='vscode-notebook-cell:/Users/lydia/Desktop/language-detection/crf_model.ipynb#W3sZmlsZQ%3D%3D?line=3'>4</a>\u001b[0m pipeline \u001b[39m=\u001b[39m Pipeline([\n\u001b[1;32m      <a href='vscode-notebook-cell:/Users/lydia/Desktop/language-detection/crf_model.ipynb#W3sZmlsZQ%3D%3D?line=4'>5</a>\u001b[0m     (\u001b[39m'\u001b[39m\u001b[39mtfidf\u001b[39m\u001b[39m'\u001b[39m, TfidfVectorizer(min_df\u001b[39m=\u001b[39m\u001b[39m1\u001b[39m, max_df\u001b[39m=\u001b[39m\u001b[39m0.5\u001b[39m, ngram_range\u001b[39m=\u001b[39m(\u001b[39m1\u001b[39m,\u001b[39m3\u001b[39m))),\n\u001b[0;32m----> <a href='vscode-notebook-cell:/Users/lydia/Desktop/language-detection/crf_model.ipynb#W3sZmlsZQ%3D%3D?line=5'>6</a>\u001b[0m     (\u001b[39m'\u001b[39m\u001b[39msclf\u001b[39m\u001b[39m'\u001b[39m, LogisticRegression(random_state\u001b[39m=\u001b[39m\u001b[39m42\u001b[39m))\n\u001b[1;32m      <a href='vscode-notebook-cell:/Users/lydia/Desktop/language-detection/crf_model.ipynb#W3sZmlsZQ%3D%3D?line=6'>7</a>\u001b[0m ])\n",
      "\u001b[0;31mNameError\u001b[0m: name 'LogisticRegression' is not defined"
     ]
    }
   ],
   "source": [
    "X_train, y_train = df_train['token'], df_train['label']\n",
    "X_dev, y_dev = df_dev['token'], df_dev['label']\n",
    "\n",
    "pipeline = Pipeline([\n",
    "    ('tfidf', TfidfVectorizer(min_df=1, max_df=0.5, ngram_range=(1,3))),\n",
    "    ('sclf', LogisticRegression(random_state=42))\n",
    "])"
   ]
  }
 ],
 "metadata": {
  "kernelspec": {
   "display_name": "extra-info",
   "language": "python",
   "name": "python3"
  },
  "language_info": {
   "codemirror_mode": {
    "name": "ipython",
    "version": 3
   },
   "file_extension": ".py",
   "mimetype": "text/x-python",
   "name": "python",
   "nbconvert_exporter": "python",
   "pygments_lexer": "ipython3",
   "version": "3.9.18"
  },
  "orig_nbformat": 4
 },
 "nbformat": 4,
 "nbformat_minor": 2
}
